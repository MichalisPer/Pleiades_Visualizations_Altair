{
 "cells": [
  {
   "cell_type": "code",
   "execution_count": null,
   "metadata": {},
   "outputs": [],
   "source": [
    "import altair as alt\n",
    "from vega_datasets import data\n",
    "import pandas as pd\n",
    "import numpy as np\n",
    "\n",
    "places = pd.read_csv('pleiades-places.csv')\n",
    "\n",
    "alt.data_transformers.disable_max_rows()\n",
    "\n",
    "#Choose only the columns we need and remove missing or wrong inputs\n",
    "places = places[['reprLong','reprLat','connectsWith','hasConnectionsWith','featureTypes','path']]\n",
    "places.dropna(subset=['reprLong','reprLat','connectsWith','hasConnectionsWith','featureTypes','path'],inplace=True)\n",
    "places['path'] = places['path'].str.replace('/places/','')\n",
    "places['initialType'] = places['featureTypes'].str.split(',').str[0]\n",
    "places['initialType'] = places['initialType'].str.replace('-2','')\n",
    "places = places[places.featureTypes != 'unknown']\n",
    "places = places[places.featureTypes != 'unknown,']\n",
    "places.drop(columns=['featureTypes'],inplace=True)\n",
    "places['connectsWith'] = places['connectsWith'].str.replace(' ','')\n",
    "places['hasConnectionsWith'] = places['hasConnectionsWith'].str.replace(' ','')\n",
    "places.reset_index(inplace=True)\n",
    "places.drop(columns=['index'],inplace=True)\n",
    "places.drop_duplicates(subset=['reprLong', 'reprLat'], inplace=True)\n",
    "\n",
    "#Create a numpy array from the dataframe(general bad practise but here is uselful)\n",
    "#From the numpy array we create a list of connections between the places\n",
    "arr = np.array(places,dtype=str)\n",
    "con_list = []\n",
    "for i in range(arr.shape[0]):\n",
    "    connections = arr[i][2].split(',')\n",
    "    x = arr[i][3].split(',')\n",
    "    for con in x:\n",
    "        connections.append(con)\n",
    "    for con in connections:\n",
    "        for k in range(arr.shape[0]):\n",
    "            if con == arr[k][4]:\n",
    "                con_list.append([arr[i][4],arr[k][4],arr[i][5],arr[k][5]])\n",
    "                break\n",
    "\n",
    "#convert the connection list into dataframe\n",
    "connections = pd.DataFrame(con_list)\n",
    "connections.columns=['origin','destination','originType','destType']\n",
    "connections.sort_values(by=['origin'],inplace=True)\n",
    "connections.reset_index(inplace=True)\n",
    "connections.drop(columns=['index'],inplace=True)\n",
    "\n",
    "#Find the 10 types that occur more often in the dataset\n",
    "top10_org = connections['originType'].value_counts().keys()[0:10]\n",
    "\n",
    "top10_des = connections['destType'].value_counts().keys()[0:10]\n",
    "\n",
    "#Filter the dataset based on the top 10 types\n",
    "final = connections[connections['originType'].isin(top10_org)]\n",
    "final = final[final['destType'].isin(top10_des)]"
   ]
  },
  {
   "cell_type": "code",
   "execution_count": null,
   "metadata": {},
   "outputs": [],
   "source": [
    "alt.Chart(final).mark_rect().encode(\n",
    "    x='originType:N',\n",
    "    y='destType:N',\n",
    "    color=alt.Color('sum_all:Q', scale=alt.Scale(scheme=\"lightgreyteal\"),title=\"Count of connections\"),\n",
    "    tooltip=[alt.Tooltip('sum_all:Q',title=\"Count of connections\")]\n",
    ").transform_joinaggregate(\n",
    "    suma = 'count()',\n",
    "    groupby=['originType','destType']\n",
    ").transform_joinaggregate(\n",
    "    suma1 = 'count()',\n",
    "    groupby=['destType','originType']\n",
    ").transform_calculate(sum_all='datum.suma+datum.suma1').properties(\n",
    "    title=\"Relation between structure types\",\n",
    "    width=500,\n",
    "    height=300\n",
    ").configure_title(\n",
    "    fontSize=25,\n",
    "    font='Calibri',\n",
    "    anchor='middle',\n",
    "    color='black'\n",
    ").configure_legend(\n",
    "    titleFont='Arial',\n",
    "    titleFontSize=15,\n",
    "    labelFont='Arial',\n",
    "    labelFontSize = 14\n",
    ")"
   ]
  },
  {
   "cell_type": "markdown",
   "metadata": {},
   "source": [
    "![Final First Photo](Material/FifthVisualization/FinalFirstPhoto.png)\n",
    "![Final Second Photo](Material/FifthVisualization/FinalSecondPhoto.png)"
   ]
  },
  {
   "cell_type": "code",
   "execution_count": null,
   "metadata": {},
   "outputs": [],
   "source": []
  }
 ],
 "metadata": {
  "kernelspec": {
   "display_name": "Python 3",
   "language": "python",
   "name": "python3"
  },
  "language_info": {
   "codemirror_mode": {
    "name": "ipython",
    "version": 3
   },
   "file_extension": ".py",
   "mimetype": "text/x-python",
   "name": "python",
   "nbconvert_exporter": "python",
   "pygments_lexer": "ipython3",
   "version": "3.8.5"
  }
 },
 "nbformat": 4,
 "nbformat_minor": 4
}
