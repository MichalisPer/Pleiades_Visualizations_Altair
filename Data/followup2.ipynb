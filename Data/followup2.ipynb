{
 "cells": [
  {
   "cell_type": "code",
   "execution_count": null,
   "metadata": {},
   "outputs": [],
   "source": [
    "import altair as alt\n",
    "import vega_datasets as data\n",
    "import pandas as pd\n",
    "import numpy as np\n",
    "\n",
    "names = pd.read_csv('pleiades-names.csv')\n",
    "\n",
    "alt.data_transformers.disable_max_rows()\n",
    "\n",
    "#Data preparation: Match each period with the type based on order they are inserted\n",
    "names = names[['nameLanguage','minDate','maxDate','timePeriodsKeys']]\n",
    "\n",
    "#Remove locations that with missing information, either from timePeriodsKeys or featureType\n",
    "names['timePeriodsKeys'] = names['timePeriodsKeys'].str.replace(' ','')\n",
    "names.dropna(subset=['nameLanguage','minDate','maxDate','timePeriodsKeys'],inplace=True)\n",
    "names['timePeriodsKeys'] = names['timePeriodsKeys'].str.split(',').str[0]\n",
    "names.reset_index(inplace=True)\n",
    "names.drop(columns=['index'],inplace=True)\n",
    "\n",
    "#Find the 10 periods that occur more often in the dataset\n",
    "top10Periods = names['timePeriodsKeys'].value_counts().keys()[0:10]\n",
    "\n",
    "#Find the 10 names that occur more often in the dataset\n",
    "top10Lang = names['nameLanguage'].value_counts().keys()[0:10]\n",
    "\n",
    "#Filter the dataset based on the top 7 periods and types\n",
    "names = names[names['timePeriodsKeys'].isin(top10Periods)]\n",
    "names = names[names['nameLanguage'].isin(top10Lang)]\n",
    "names['lifetime'] = names['maxDate'] - names['minDate']"
   ]
  },
  {
   "cell_type": "code",
   "execution_count": null,
   "metadata": {},
   "outputs": [],
   "source": [
    "alt.Chart(names).mark_circle().encode(\n",
    "    x=alt.X('nameLanguage:N',title=\"Language lang\"),\n",
    "    y=alt.Y('timePeriodsKeys:N',title=\"Period\"),\n",
    "    size=alt.Size('count():Q',scale=alt.Scale(range=[10,800]),title=\"Count of records\"),\n",
    "    color=alt.Color('mean_lifetime:Q',scale=alt.Scale(scheme=\"darkred\"),title=\"Mean lifetime of places\"),\n",
    "    tooltip=[alt.Tooltip('count()',title=\"# of records\"),alt.Tooltip('mean_lifetime:Q',title=\"Mean lifetime\")]\n",
    ").transform_joinaggregate(\n",
    "    mean_lifetime= 'mean(lifetime)',\n",
    "    groupby=['nameLanguage','timePeriodsKeys']\n",
    ").properties(\n",
    "    title=\"Most talked languages between periods\",\n",
    "    width=400,\n",
    "    height=300).configure_title(\n",
    "    fontSize=20,\n",
    "    font='Calibri',\n",
    "    anchor='middle',\n",
    "    color='black'\n",
    ")"
   ]
  },
  {
   "cell_type": "markdown",
   "metadata": {},
   "source": [
    "![Final First Photo](Material/FourthVisualization/FinalFirstPhoto.png)\n",
    "![Final Second Photo](Material/FourthVisualization/FinalSecondPhoto.png)"
   ]
  },
  {
   "cell_type": "code",
   "execution_count": null,
   "metadata": {},
   "outputs": [],
   "source": []
  }
 ],
 "metadata": {
  "kernelspec": {
   "display_name": "Python 3",
   "language": "python",
   "name": "python3"
  },
  "language_info": {
   "codemirror_mode": {
    "name": "ipython",
    "version": 3
   },
   "file_extension": ".py",
   "mimetype": "text/x-python",
   "name": "python",
   "nbconvert_exporter": "python",
   "pygments_lexer": "ipython3",
   "version": "3.8.5"
  }
 },
 "nbformat": 4,
 "nbformat_minor": 4
}
